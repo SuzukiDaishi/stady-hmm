{
 "cells": [
  {
   "cell_type": "code",
   "execution_count": 1,
   "metadata": {},
   "outputs": [],
   "source": [
    "import pandas as pd\n",
    "import numpy as np\n",
    "import matplotlib.pyplot as plt\n",
    "%matplotlib inline"
   ]
  },
  {
   "cell_type": "code",
   "execution_count": 2,
   "metadata": {},
   "outputs": [],
   "source": [
    "X = np.array(\n",
    "    [[0.4, 0.3, 0.3],\n",
    "     [0.2, 0.2, 0.3],\n",
    "     [0.4, 0.5, 0.4]]\n",
    ")\n",
    "w_0 = np.array([1., 0., 0.])"
   ]
  },
  {
   "cell_type": "code",
   "execution_count": 3,
   "metadata": {},
   "outputs": [
    {
     "name": "stdout",
     "output_type": "stream",
     "text": [
      "遷移確率\n",
      "\n",
      "[[晴れ←晴れ, 晴れ←あめ, 晴れ←曇り],\n",
      " [あめ←晴れ, あめ←あめ, あめ←曇り],\n",
      " [曇り←晴れ, 曇り←あめ, 曇り←曇り]]\n",
      "\n",
      "[[0.4 0.3 0.3]\n",
      " [0.2 0.2 0.3]\n",
      " [0.4 0.5 0.4]] \n",
      "\n",
      "初期状態[晴れ, 雨, 曇り]\n",
      "\n",
      "[1. 0. 0.] \n",
      "\n"
     ]
    }
   ],
   "source": [
    "print('''遷移確率\\n\n",
    "[[晴れ←晴れ, 晴れ←あめ, 晴れ←曇り],\n",
    " [あめ←晴れ, あめ←あめ, あめ←曇り],\n",
    " [曇り←晴れ, 曇り←あめ, 曇り←曇り]]\n",
    "''')\n",
    "print(X, '\\n')\n",
    "print('初期状態[晴れ, 雨, 曇り]\\n')\n",
    "print(w_0, '\\n')"
   ]
  },
  {
   "cell_type": "code",
   "execution_count": 4,
   "metadata": {},
   "outputs": [
    {
     "name": "stdout",
     "output_type": "stream",
     "text": [
      "翌日の確率\n",
      "\n",
      "[0.4 0.2 0.4] \n",
      "\n",
      "2日後の確率\n",
      "\n",
      "[0.34 0.24 0.42] \n",
      "\n"
     ]
    }
   ],
   "source": [
    "print('翌日の確率\\n')\n",
    "print(X @ w_0, '\\n')\n",
    "print('2日後の確率\\n')\n",
    "print(X @ X @ w_0, '\\n')"
   ]
  },
  {
   "cell_type": "code",
   "execution_count": 5,
   "metadata": {},
   "outputs": [
    {
     "data": {
      "text/plain": [
       "<matplotlib.legend.Legend at 0x7f411b829110>"
      ]
     },
     "execution_count": 5,
     "metadata": {},
     "output_type": "execute_result"
    },
    {
     "data": {
      "image/png": "[encoded data removed]",
      "text/plain": [
       "<Figure size 720x360 with 1 Axes>"
      ]
     },
     "metadata": {
      "needs_background": "light"
     },
     "output_type": "display_data"
    }
   ],
   "source": [
    "sunny, rainy, cloudy = [w_0[0]], [w_0[1]], [w_0[2]]\n",
    "w = w_0\n",
    "t = [0]\n",
    "for i in range(1, 5+1):\n",
    "    w = X @ w\n",
    "    sunny.append(w[0])\n",
    "    rainy.append(w[1])\n",
    "    cloudy.append(w[2])\n",
    "    t.append(i)\n",
    "fig = plt.figure(figsize =(10, 5))\n",
    "ax = fig.add_subplot(111)\n",
    "ax.grid()\n",
    "ax.plot(t, sunny, label='Sunny', color='red')\n",
    "ax.plot(t, rainy, label='Rainy', color='blue')\n",
    "ax.plot(t, cloudy, label='Cloudy', color='green')\n",
    "ax.legend()"
   ]
  }
 ],
 "metadata": {
  "kernelspec": {
   "display_name": "Python 3",
   "language": "python",
   "name": "python3"
  },
  "language_info": {
   "codemirror_mode": {
    "name": "ipython",
    "version": 3
   },
   "file_extension": ".py",
   "mimetype": "text/x-python",
   "name": "python",
   "nbconvert_exporter": "python",
   "pygments_lexer": "ipython3",
   "version": "3.7.6"
  }
 },
 "nbformat": 4,
 "nbformat_minor": 4
}
